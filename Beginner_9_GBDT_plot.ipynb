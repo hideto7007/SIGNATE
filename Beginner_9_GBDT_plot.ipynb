{
 "cells": [
  {
   "cell_type": "code",
   "execution_count": 2,
   "id": "traditional-insight",
   "metadata": {},
   "outputs": [
    {
     "name": "stdout",
     "output_type": "stream",
     "text": [
      "Collecting xgboost\n",
      "  Downloading xgboost-1.3.3-py3-none-win_amd64.whl (95.2 MB)\n",
      "Requirement already satisfied: numpy in c:\\users\\81805\\appdata\\local\\programs\\python\\python38\\lib\\site-packages (from xgboost) (1.19.5)\n",
      "Requirement already satisfied: scipy in c:\\users\\81805\\appdata\\local\\programs\\python\\python38\\lib\\site-packages (from xgboost) (1.6.0)\n",
      "Installing collected packages: xgboost\n",
      "Successfully installed xgboost-1.3.3\n"
     ]
    }
   ],
   "source": [
    "!pip install xgboost "
   ]
  },
  {
   "cell_type": "code",
   "execution_count": 67,
   "id": "electric-hostel",
   "metadata": {},
   "outputs": [],
   "source": [
    "from xgboost import XGBClassifier\n",
    "import xgboost as xgb\n",
    "\n",
    "\n",
    "import numpy as np\n",
    "import pandas as pd\n",
    "from sklearn.model_selection import train_test_split, cross_validate, KFold\n",
    "from sklearn.metrics import accuracy_score\n",
    "from sklearn.preprocessing import LabelEncoder, StandardScaler\n",
    "from sklearn.metrics import mean_squared_error, classification_report\n",
    "from sklearn.linear_model import LogisticRegression\n",
    "import matplotlib.pyplot as plt"
   ]
  },
  {
   "cell_type": "code",
   "execution_count": 68,
   "id": "hourly-trade",
   "metadata": {},
   "outputs": [],
   "source": [
    "train_df = pd.read_csv('train.csv')\n",
    "test_df = pd.read_csv('test.csv')\n",
    "submit_df = pd.read_csv('sample_submission.csv')"
   ]
  },
  {
   "cell_type": "code",
   "execution_count": 119,
   "id": "cordless-anaheim",
   "metadata": {},
   "outputs": [],
   "source": [
    "train_df1 = train_df\n",
    "test_df1  = test_df\n",
    "\n",
    "train_df1['data1'] = train_df1['serum_sodium'] / int(train_df1['serum_sodium'].sum()) * 100\n",
    "train_df1['data2'] = train_df1['creatinine_phosphokinase'] / (train_df1['platelets'] + train_df1['serum_creatinine'] + train_df1['serum_sodium'])\n",
    "train_df1['data3'] = train_df1['ejection_fraction'] / train_df1['serum_sodium']\n",
    "\n",
    "test_df1['data1'] = test_df1['serum_sodium'] / int(test_df1['serum_sodium'].sum()) * 100\n",
    "test_df1['data2'] = test_df1['creatinine_phosphokinase'] / (test_df1['platelets'] + test_df1['serum_creatinine'] + test_df1['serum_sodium'])\n",
    "test_df1['data3'] = test_df1['ejection_fraction'] / test_df1['serum_sodium']"
   ]
  },
  {
   "cell_type": "code",
   "execution_count": 120,
   "id": "improved-africa",
   "metadata": {},
   "outputs": [
    {
     "data": {
      "text/html": [
       "<div>\n",
       "<style scoped>\n",
       "    .dataframe tbody tr th:only-of-type {\n",
       "        vertical-align: middle;\n",
       "    }\n",
       "\n",
       "    .dataframe tbody tr th {\n",
       "        vertical-align: top;\n",
       "    }\n",
       "\n",
       "    .dataframe thead th {\n",
       "        text-align: right;\n",
       "    }\n",
       "</style>\n",
       "<table border=\"1\" class=\"dataframe\">\n",
       "  <thead>\n",
       "    <tr style=\"text-align: right;\">\n",
       "      <th></th>\n",
       "      <th>id</th>\n",
       "      <th>age</th>\n",
       "      <th>anaemia</th>\n",
       "      <th>creatinine_phosphokinase</th>\n",
       "      <th>diabetes</th>\n",
       "      <th>ejection_fraction</th>\n",
       "      <th>high_blood_pressure</th>\n",
       "      <th>platelets</th>\n",
       "      <th>serum_creatinine</th>\n",
       "      <th>serum_sodium</th>\n",
       "      <th>sex</th>\n",
       "      <th>smoking</th>\n",
       "      <th>time</th>\n",
       "      <th>target</th>\n",
       "      <th>data1</th>\n",
       "      <th>data2</th>\n",
       "      <th>data3</th>\n",
       "    </tr>\n",
       "  </thead>\n",
       "  <tbody>\n",
       "    <tr>\n",
       "      <th>0</th>\n",
       "      <td>0</td>\n",
       "      <td>56</td>\n",
       "      <td>1</td>\n",
       "      <td>5882</td>\n",
       "      <td>0</td>\n",
       "      <td>38</td>\n",
       "      <td>0</td>\n",
       "      <td>185315.0104</td>\n",
       "      <td>0.844417</td>\n",
       "      <td>134</td>\n",
       "      <td>1</td>\n",
       "      <td>0</td>\n",
       "      <td>10</td>\n",
       "      <td>1</td>\n",
       "      <td>0.097924</td>\n",
       "      <td>0.031717</td>\n",
       "      <td>0.283582</td>\n",
       "    </tr>\n",
       "    <tr>\n",
       "      <th>1</th>\n",
       "      <td>3</td>\n",
       "      <td>50</td>\n",
       "      <td>0</td>\n",
       "      <td>1767</td>\n",
       "      <td>1</td>\n",
       "      <td>35</td>\n",
       "      <td>0</td>\n",
       "      <td>371620.3666</td>\n",
       "      <td>0.837448</td>\n",
       "      <td>136</td>\n",
       "      <td>0</td>\n",
       "      <td>0</td>\n",
       "      <td>187</td>\n",
       "      <td>1</td>\n",
       "      <td>0.099385</td>\n",
       "      <td>0.004753</td>\n",
       "      <td>0.257353</td>\n",
       "    </tr>\n",
       "    <tr>\n",
       "      <th>2</th>\n",
       "      <td>7</td>\n",
       "      <td>41</td>\n",
       "      <td>0</td>\n",
       "      <td>250</td>\n",
       "      <td>1</td>\n",
       "      <td>30</td>\n",
       "      <td>0</td>\n",
       "      <td>372810.2084</td>\n",
       "      <td>0.819996</td>\n",
       "      <td>139</td>\n",
       "      <td>1</td>\n",
       "      <td>0</td>\n",
       "      <td>29</td>\n",
       "      <td>1</td>\n",
       "      <td>0.101578</td>\n",
       "      <td>0.000670</td>\n",
       "      <td>0.215827</td>\n",
       "    </tr>\n",
       "    <tr>\n",
       "      <th>3</th>\n",
       "      <td>11</td>\n",
       "      <td>47</td>\n",
       "      <td>0</td>\n",
       "      <td>582</td>\n",
       "      <td>1</td>\n",
       "      <td>20</td>\n",
       "      <td>0</td>\n",
       "      <td>185780.6482</td>\n",
       "      <td>0.870314</td>\n",
       "      <td>137</td>\n",
       "      <td>0</td>\n",
       "      <td>0</td>\n",
       "      <td>43</td>\n",
       "      <td>0</td>\n",
       "      <td>0.100116</td>\n",
       "      <td>0.003130</td>\n",
       "      <td>0.145985</td>\n",
       "    </tr>\n",
       "    <tr>\n",
       "      <th>4</th>\n",
       "      <td>12</td>\n",
       "      <td>60</td>\n",
       "      <td>0</td>\n",
       "      <td>80</td>\n",
       "      <td>0</td>\n",
       "      <td>25</td>\n",
       "      <td>0</td>\n",
       "      <td>265096.3999</td>\n",
       "      <td>0.828112</td>\n",
       "      <td>136</td>\n",
       "      <td>1</td>\n",
       "      <td>0</td>\n",
       "      <td>213</td>\n",
       "      <td>0</td>\n",
       "      <td>0.099385</td>\n",
       "      <td>0.000302</td>\n",
       "      <td>0.183824</td>\n",
       "    </tr>\n",
       "  </tbody>\n",
       "</table>\n",
       "</div>"
      ],
      "text/plain": [
       "   id  age  anaemia  creatinine_phosphokinase  diabetes  ejection_fraction  \\\n",
       "0   0   56        1                      5882         0                 38   \n",
       "1   3   50        0                      1767         1                 35   \n",
       "2   7   41        0                       250         1                 30   \n",
       "3  11   47        0                       582         1                 20   \n",
       "4  12   60        0                        80         0                 25   \n",
       "\n",
       "   high_blood_pressure    platelets  serum_creatinine  serum_sodium  sex  \\\n",
       "0                    0  185315.0104          0.844417           134    1   \n",
       "1                    0  371620.3666          0.837448           136    0   \n",
       "2                    0  372810.2084          0.819996           139    1   \n",
       "3                    0  185780.6482          0.870314           137    0   \n",
       "4                    0  265096.3999          0.828112           136    1   \n",
       "\n",
       "   smoking  time  target     data1     data2     data3  \n",
       "0        0    10       1  0.097924  0.031717  0.283582  \n",
       "1        0   187       1  0.099385  0.004753  0.257353  \n",
       "2        0    29       1  0.101578  0.000670  0.215827  \n",
       "3        0    43       0  0.100116  0.003130  0.145985  \n",
       "4        0   213       0  0.099385  0.000302  0.183824  "
      ]
     },
     "execution_count": 120,
     "metadata": {},
     "output_type": "execute_result"
    }
   ],
   "source": [
    "train_df1.head()"
   ]
  },
  {
   "cell_type": "code",
   "execution_count": 121,
   "id": "central-morgan",
   "metadata": {},
   "outputs": [
    {
     "data": {
      "text/html": [
       "<div>\n",
       "<style scoped>\n",
       "    .dataframe tbody tr th:only-of-type {\n",
       "        vertical-align: middle;\n",
       "    }\n",
       "\n",
       "    .dataframe tbody tr th {\n",
       "        vertical-align: top;\n",
       "    }\n",
       "\n",
       "    .dataframe thead th {\n",
       "        text-align: right;\n",
       "    }\n",
       "</style>\n",
       "<table border=\"1\" class=\"dataframe\">\n",
       "  <thead>\n",
       "    <tr style=\"text-align: right;\">\n",
       "      <th></th>\n",
       "      <th>id</th>\n",
       "      <th>age</th>\n",
       "      <th>anaemia</th>\n",
       "      <th>creatinine_phosphokinase</th>\n",
       "      <th>diabetes</th>\n",
       "      <th>ejection_fraction</th>\n",
       "      <th>high_blood_pressure</th>\n",
       "      <th>platelets</th>\n",
       "      <th>serum_creatinine</th>\n",
       "      <th>serum_sodium</th>\n",
       "      <th>sex</th>\n",
       "      <th>smoking</th>\n",
       "      <th>time</th>\n",
       "      <th>target</th>\n",
       "      <th>data1</th>\n",
       "      <th>data2</th>\n",
       "      <th>data3</th>\n",
       "    </tr>\n",
       "  </thead>\n",
       "  <tbody>\n",
       "    <tr>\n",
       "      <th>count</th>\n",
       "      <td>1000.000000</td>\n",
       "      <td>1000.000000</td>\n",
       "      <td>1000.00000</td>\n",
       "      <td>1000.000000</td>\n",
       "      <td>1000.000000</td>\n",
       "      <td>1000.000000</td>\n",
       "      <td>1000.000000</td>\n",
       "      <td>1000.000000</td>\n",
       "      <td>1000.000000</td>\n",
       "      <td>1000.000000</td>\n",
       "      <td>1000.000000</td>\n",
       "      <td>1000.00000</td>\n",
       "      <td>1000.000000</td>\n",
       "      <td>1000.000000</td>\n",
       "      <td>1000.000000</td>\n",
       "      <td>1000.000000</td>\n",
       "      <td>1000.000000</td>\n",
       "    </tr>\n",
       "    <tr>\n",
       "      <th>mean</th>\n",
       "      <td>999.734000</td>\n",
       "      <td>57.632000</td>\n",
       "      <td>0.41600</td>\n",
       "      <td>605.359000</td>\n",
       "      <td>0.270000</td>\n",
       "      <td>36.691000</td>\n",
       "      <td>0.237000</td>\n",
       "      <td>278330.242337</td>\n",
       "      <td>1.030258</td>\n",
       "      <td>136.841000</td>\n",
       "      <td>0.755000</td>\n",
       "      <td>0.25600</td>\n",
       "      <td>149.560000</td>\n",
       "      <td>0.198000</td>\n",
       "      <td>0.100000</td>\n",
       "      <td>0.002407</td>\n",
       "      <td>0.268093</td>\n",
       "    </tr>\n",
       "    <tr>\n",
       "      <th>std</th>\n",
       "      <td>578.002214</td>\n",
       "      <td>9.875328</td>\n",
       "      <td>0.49314</td>\n",
       "      <td>971.937382</td>\n",
       "      <td>0.444182</td>\n",
       "      <td>11.037089</td>\n",
       "      <td>0.425455</td>\n",
       "      <td>79543.675235</td>\n",
       "      <td>0.704616</td>\n",
       "      <td>3.405777</td>\n",
       "      <td>0.430302</td>\n",
       "      <td>0.43664</td>\n",
       "      <td>77.381072</td>\n",
       "      <td>0.398692</td>\n",
       "      <td>0.002489</td>\n",
       "      <td>0.004227</td>\n",
       "      <td>0.080262</td>\n",
       "    </tr>\n",
       "    <tr>\n",
       "      <th>min</th>\n",
       "      <td>0.000000</td>\n",
       "      <td>39.000000</td>\n",
       "      <td>0.00000</td>\n",
       "      <td>23.000000</td>\n",
       "      <td>0.000000</td>\n",
       "      <td>14.000000</td>\n",
       "      <td>0.000000</td>\n",
       "      <td>138173.134500</td>\n",
       "      <td>0.629178</td>\n",
       "      <td>116.000000</td>\n",
       "      <td>0.000000</td>\n",
       "      <td>0.00000</td>\n",
       "      <td>4.000000</td>\n",
       "      <td>0.000000</td>\n",
       "      <td>0.084770</td>\n",
       "      <td>0.000084</td>\n",
       "      <td>0.100000</td>\n",
       "    </tr>\n",
       "    <tr>\n",
       "      <th>25%</th>\n",
       "      <td>496.750000</td>\n",
       "      <td>50.000000</td>\n",
       "      <td>0.00000</td>\n",
       "      <td>93.000000</td>\n",
       "      <td>0.000000</td>\n",
       "      <td>30.000000</td>\n",
       "      <td>0.000000</td>\n",
       "      <td>256629.434900</td>\n",
       "      <td>0.798218</td>\n",
       "      <td>135.000000</td>\n",
       "      <td>1.000000</td>\n",
       "      <td>0.00000</td>\n",
       "      <td>84.500000</td>\n",
       "      <td>0.000000</td>\n",
       "      <td>0.098655</td>\n",
       "      <td>0.000335</td>\n",
       "      <td>0.214286</td>\n",
       "    </tr>\n",
       "    <tr>\n",
       "      <th>50%</th>\n",
       "      <td>1007.500000</td>\n",
       "      <td>58.000000</td>\n",
       "      <td>0.00000</td>\n",
       "      <td>255.000000</td>\n",
       "      <td>0.000000</td>\n",
       "      <td>35.000000</td>\n",
       "      <td>0.000000</td>\n",
       "      <td>267025.054700</td>\n",
       "      <td>0.844389</td>\n",
       "      <td>136.500000</td>\n",
       "      <td>1.000000</td>\n",
       "      <td>0.00000</td>\n",
       "      <td>185.000000</td>\n",
       "      <td>0.000000</td>\n",
       "      <td>0.099751</td>\n",
       "      <td>0.000949</td>\n",
       "      <td>0.261194</td>\n",
       "    </tr>\n",
       "    <tr>\n",
       "      <th>75%</th>\n",
       "      <td>1512.250000</td>\n",
       "      <td>61.000000</td>\n",
       "      <td>1.00000</td>\n",
       "      <td>582.000000</td>\n",
       "      <td>1.000000</td>\n",
       "      <td>40.000000</td>\n",
       "      <td>0.000000</td>\n",
       "      <td>279943.418975</td>\n",
       "      <td>0.956294</td>\n",
       "      <td>139.000000</td>\n",
       "      <td>1.000000</td>\n",
       "      <td>1.00000</td>\n",
       "      <td>213.000000</td>\n",
       "      <td>0.000000</td>\n",
       "      <td>0.101578</td>\n",
       "      <td>0.002258</td>\n",
       "      <td>0.300995</td>\n",
       "    </tr>\n",
       "    <tr>\n",
       "      <th>max</th>\n",
       "      <td>1998.000000</td>\n",
       "      <td>85.000000</td>\n",
       "      <td>1.00000</td>\n",
       "      <td>7861.000000</td>\n",
       "      <td>1.000000</td>\n",
       "      <td>70.000000</td>\n",
       "      <td>1.000000</td>\n",
       "      <td>824131.916700</td>\n",
       "      <td>8.994597</td>\n",
       "      <td>146.000000</td>\n",
       "      <td>1.000000</td>\n",
       "      <td>1.00000</td>\n",
       "      <td>285.000000</td>\n",
       "      <td>1.000000</td>\n",
       "      <td>0.106693</td>\n",
       "      <td>0.034567</td>\n",
       "      <td>0.517241</td>\n",
       "    </tr>\n",
       "  </tbody>\n",
       "</table>\n",
       "</div>"
      ],
      "text/plain": [
       "                id          age     anaemia  creatinine_phosphokinase  \\\n",
       "count  1000.000000  1000.000000  1000.00000               1000.000000   \n",
       "mean    999.734000    57.632000     0.41600                605.359000   \n",
       "std     578.002214     9.875328     0.49314                971.937382   \n",
       "min       0.000000    39.000000     0.00000                 23.000000   \n",
       "25%     496.750000    50.000000     0.00000                 93.000000   \n",
       "50%    1007.500000    58.000000     0.00000                255.000000   \n",
       "75%    1512.250000    61.000000     1.00000                582.000000   \n",
       "max    1998.000000    85.000000     1.00000               7861.000000   \n",
       "\n",
       "          diabetes  ejection_fraction  high_blood_pressure      platelets  \\\n",
       "count  1000.000000        1000.000000          1000.000000    1000.000000   \n",
       "mean      0.270000          36.691000             0.237000  278330.242337   \n",
       "std       0.444182          11.037089             0.425455   79543.675235   \n",
       "min       0.000000          14.000000             0.000000  138173.134500   \n",
       "25%       0.000000          30.000000             0.000000  256629.434900   \n",
       "50%       0.000000          35.000000             0.000000  267025.054700   \n",
       "75%       1.000000          40.000000             0.000000  279943.418975   \n",
       "max       1.000000          70.000000             1.000000  824131.916700   \n",
       "\n",
       "       serum_creatinine  serum_sodium          sex     smoking         time  \\\n",
       "count       1000.000000   1000.000000  1000.000000  1000.00000  1000.000000   \n",
       "mean           1.030258    136.841000     0.755000     0.25600   149.560000   \n",
       "std            0.704616      3.405777     0.430302     0.43664    77.381072   \n",
       "min            0.629178    116.000000     0.000000     0.00000     4.000000   \n",
       "25%            0.798218    135.000000     1.000000     0.00000    84.500000   \n",
       "50%            0.844389    136.500000     1.000000     0.00000   185.000000   \n",
       "75%            0.956294    139.000000     1.000000     1.00000   213.000000   \n",
       "max            8.994597    146.000000     1.000000     1.00000   285.000000   \n",
       "\n",
       "            target        data1        data2        data3  \n",
       "count  1000.000000  1000.000000  1000.000000  1000.000000  \n",
       "mean      0.198000     0.100000     0.002407     0.268093  \n",
       "std       0.398692     0.002489     0.004227     0.080262  \n",
       "min       0.000000     0.084770     0.000084     0.100000  \n",
       "25%       0.000000     0.098655     0.000335     0.214286  \n",
       "50%       0.000000     0.099751     0.000949     0.261194  \n",
       "75%       0.000000     0.101578     0.002258     0.300995  \n",
       "max       1.000000     0.106693     0.034567     0.517241  "
      ]
     },
     "execution_count": 121,
     "metadata": {},
     "output_type": "execute_result"
    }
   ],
   "source": [
    "train_df1.describe()"
   ]
  },
  {
   "cell_type": "code",
   "execution_count": 122,
   "id": "lucky-boutique",
   "metadata": {},
   "outputs": [],
   "source": [
    "# 説明変数⇒X、目的変数⇒Y\n",
    "\n",
    "X = train_df1[['age', 'anaemia', 'diabetes', 'ejection_fraction', 'high_blood_pressure', 'serum_creatinine', 'serum_sodium', 'sex', 'time', 'data2']].values\n",
    "Y = train_df1['target'].values\n",
    "XT = test_df1[['age', 'anaemia', 'diabetes', 'ejection_fraction', 'high_blood_pressure', 'serum_creatinine', 'serum_sodium', 'sex', 'time', 'data2']].values"
   ]
  },
  {
   "cell_type": "code",
   "execution_count": 123,
   "id": "chemical-california",
   "metadata": {},
   "outputs": [],
   "source": [
    "# データの分割\n",
    "\n",
    "X_train, X_test, y_train, y_test = train_test_split(X, Y, test_size=0.2, shuffle=True, random_state=0, stratify=Y)\n",
    "\n",
    "#X_train, X_test, y_train, y_test = train_test_split(X, Y, test_size=0.3, shuffle=True)"
   ]
  },
  {
   "cell_type": "code",
   "execution_count": 124,
   "id": "retired-oklahoma",
   "metadata": {},
   "outputs": [
    {
     "name": "stdout",
     "output_type": "stream",
     "text": [
      "(800, 10)\n",
      "(200, 10)\n",
      "(800,)\n",
      "(200,)\n"
     ]
    }
   ],
   "source": [
    "print(X_train.shape)\n",
    "print(X_test.shape)\n",
    "print(y_train.shape)\n",
    "print(y_test.shape)"
   ]
  },
  {
   "cell_type": "code",
   "execution_count": 125,
   "id": "sweet-resort",
   "metadata": {},
   "outputs": [
    {
     "name": "stdout",
     "output_type": "stream",
     "text": [
      "[0]\ttrain-logloss:0.54235\teval-logloss:0.55337\n",
      "[1]\ttrain-logloss:0.45225\teval-logloss:0.47255\n",
      "[2]\ttrain-logloss:0.38958\teval-logloss:0.41937\n",
      "[3]\ttrain-logloss:0.34236\teval-logloss:0.39122\n",
      "[4]\ttrain-logloss:0.30776\teval-logloss:0.36466\n",
      "[5]\ttrain-logloss:0.27786\teval-logloss:0.35281\n",
      "[6]\ttrain-logloss:0.25477\teval-logloss:0.34349\n",
      "[7]\ttrain-logloss:0.23223\teval-logloss:0.33529\n",
      "[8]\ttrain-logloss:0.21715\teval-logloss:0.32820\n",
      "[9]\ttrain-logloss:0.20278\teval-logloss:0.32420\n",
      "[10]\ttrain-logloss:0.19021\teval-logloss:0.32287\n",
      "[11]\ttrain-logloss:0.17636\teval-logloss:0.32502\n",
      "[12]\ttrain-logloss:0.17124\teval-logloss:0.32169\n",
      "[13]\ttrain-logloss:0.16594\teval-logloss:0.32473\n",
      "[14]\ttrain-logloss:0.16266\teval-logloss:0.32300\n",
      "[15]\ttrain-logloss:0.15204\teval-logloss:0.32285\n",
      "[16]\ttrain-logloss:0.14739\teval-logloss:0.32184\n",
      "[17]\ttrain-logloss:0.13844\teval-logloss:0.32153\n",
      "[18]\ttrain-logloss:0.13556\teval-logloss:0.31909\n",
      "[19]\ttrain-logloss:0.12973\teval-logloss:0.32312\n",
      "[20]\ttrain-logloss:0.12269\teval-logloss:0.31825\n",
      "[21]\ttrain-logloss:0.11895\teval-logloss:0.32255\n",
      "[22]\ttrain-logloss:0.11299\teval-logloss:0.32722\n",
      "[23]\ttrain-logloss:0.11104\teval-logloss:0.32847\n",
      "[24]\ttrain-logloss:0.10605\teval-logloss:0.32753\n",
      "[25]\ttrain-logloss:0.10348\teval-logloss:0.32974\n",
      "[26]\ttrain-logloss:0.10226\teval-logloss:0.32942\n",
      "[27]\ttrain-logloss:0.09885\teval-logloss:0.33281\n",
      "[28]\ttrain-logloss:0.09583\teval-logloss:0.33306\n",
      "[29]\ttrain-logloss:0.09186\teval-logloss:0.33554\n",
      "Accuracy: 0.87\n"
     ]
    },
    {
     "data": {
      "image/png": "[encoded data removed]",
      "text/plain": [
       "<Figure size 432x288 with 1 Axes>"
      ]
     },
     "metadata": {
      "needs_background": "light"
     },
     "output_type": "display_data"
    }
   ],
   "source": [
    "dtrain = xgb.DMatrix(X_train, label=y_train)\n",
    "dtest = xgb.DMatrix(X_test, label=y_test)\n",
    "\n",
    "params = {\n",
    "          'objective': 'binary:logistic',\n",
    "          'eval_metric': 'logloss',\n",
    "          }\n",
    "\n",
    "    # 学習時に用いる検証用データ\n",
    "evals = [(dtrain, 'train'), (dtest, 'eval')]\n",
    "    # 学習過程を記録するための辞書\n",
    "evals_result = {}\n",
    "model = xgb.train(params,\n",
    "                dtrain,\n",
    "                num_boost_round=30,  # ラウンド数を増やしておく\n",
    "                evals=evals,\n",
    "                evals_result=evals_result,\n",
    "                )\n",
    "\n",
    "y_pred_proba = model.predict(dtest)\n",
    "y_pred = np.where(y_pred_proba > 0.5, 1, 0)\n",
    "acc = accuracy_score(y_test, y_pred)\n",
    "print('Accuracy:', acc)\n",
    "\n",
    "# 学習の課程を折れ線グラフとしてプロットする\n",
    "train_metric = evals_result['train']['logloss']\n",
    "plt.plot(train_metric, label='train logloss')\n",
    "eval_metric = evals_result['eval']['logloss']\n",
    "plt.plot(eval_metric, label='eval logloss')\n",
    "plt.grid()\n",
    "plt.legend()\n",
    "plt.xlabel('rounds')\n",
    "plt.ylabel('logloss')\n",
    "plt.show()"
   ]
  },
  {
   "cell_type": "code",
   "execution_count": 126,
   "id": "smaller-commodity",
   "metadata": {},
   "outputs": [
    {
     "data": {
      "text/plain": [
       "array([0, 0, 0, 0, 0, 0, 0, 0, 0, 0, 0, 0, 0, 0, 0, 0, 0, 0, 0, 0, 1, 0,\n",
       "       0, 0, 0, 0, 1, 1, 1, 0, 0, 0, 0, 0, 0, 0, 1, 0, 0, 0, 0, 0, 0, 1,\n",
       "       0, 0, 1, 0, 0, 0, 0, 1, 0, 0, 0, 0, 0, 0, 0, 0, 0, 0, 1, 0, 0, 0,\n",
       "       0, 0, 1, 1, 0, 0, 1, 0, 0, 0, 0, 0, 1, 0, 0, 0, 0, 0, 1, 0, 0, 0,\n",
       "       0, 0, 1, 0, 0, 0, 0, 0, 1, 0, 1, 1, 0, 0, 0, 0, 0, 0, 0, 0, 0, 0,\n",
       "       0, 0, 0, 0, 0, 0, 0, 0, 0, 0, 0, 0, 0, 0, 0, 0, 1, 0, 0, 0, 0, 1,\n",
       "       0, 0, 0, 0, 1, 0, 0, 0, 1, 0, 0, 0, 0, 0, 0, 0, 0, 0, 0, 0, 1, 1,\n",
       "       1, 0, 1, 0, 0, 0, 0, 0, 0, 0, 0, 0, 0, 0, 0, 0, 0, 0, 0, 0, 0, 0,\n",
       "       1, 0, 0, 0, 0, 0, 0, 1, 0, 1, 0, 0, 0, 0, 0, 0, 0, 0, 0, 0, 0, 0,\n",
       "       0, 1])"
      ]
     },
     "execution_count": 126,
     "metadata": {},
     "output_type": "execute_result"
    }
   ],
   "source": [
    "y_pred = model.predict(dtest)\n",
    "Y_pred = np.where(y_pred > 0.5, 1, 0)\n",
    "Y_pred"
   ]
  },
  {
   "cell_type": "code",
   "execution_count": 127,
   "id": "cardiovascular-distinction",
   "metadata": {},
   "outputs": [
    {
     "data": {
      "text/plain": [
       "array([0, 0, 0, 0, 0, 0, 0, 0, 0, 0, 1, 0, 0, 0, 0, 1, 0, 1, 0, 0, 1, 0,\n",
       "       1, 0, 0, 0, 1, 1, 1, 0, 0, 0, 0, 0, 0, 0, 0, 0, 0, 0, 0, 0, 0, 0,\n",
       "       0, 0, 1, 0, 0, 0, 0, 1, 0, 0, 1, 0, 0, 0, 0, 0, 0, 0, 1, 0, 0, 0,\n",
       "       0, 0, 1, 0, 0, 0, 0, 0, 0, 0, 0, 0, 1, 0, 0, 0, 0, 0, 0, 0, 0, 0,\n",
       "       0, 0, 1, 0, 0, 1, 0, 0, 1, 0, 1, 1, 0, 0, 0, 0, 0, 1, 0, 0, 0, 0,\n",
       "       0, 0, 0, 0, 0, 0, 0, 0, 0, 1, 1, 0, 0, 0, 0, 0, 1, 0, 0, 0, 0, 1,\n",
       "       0, 0, 0, 0, 1, 0, 0, 0, 0, 0, 0, 0, 0, 0, 0, 0, 1, 0, 0, 1, 0, 1,\n",
       "       1, 0, 1, 0, 1, 0, 0, 0, 0, 0, 1, 0, 0, 0, 1, 0, 0, 1, 0, 0, 0, 0,\n",
       "       1, 1, 0, 0, 0, 1, 0, 0, 0, 1, 0, 0, 1, 0, 0, 0, 0, 0, 0, 0, 0, 0,\n",
       "       0, 1], dtype=int64)"
      ]
     },
     "execution_count": 127,
     "metadata": {},
     "output_type": "execute_result"
    }
   ],
   "source": [
    "y_test = np.array(y_test)\n",
    "y_test"
   ]
  },
  {
   "cell_type": "code",
   "execution_count": 128,
   "id": "worst-baking",
   "metadata": {},
   "outputs": [
    {
     "name": "stdout",
     "output_type": "stream",
     "text": [
      "0.87\n"
     ]
    }
   ],
   "source": [
    "# 実際の値を表示する（命令を追記すること）\n",
    "from sklearn import metrics\n",
    "\n",
    "print(metrics.accuracy_score(y_test, Y_pred))"
   ]
  },
  {
   "cell_type": "code",
   "execution_count": 129,
   "id": "sharing-camel",
   "metadata": {},
   "outputs": [
    {
     "name": "stdout",
     "output_type": "stream",
     "text": [
      "[[152   8]\n",
      " [ 18  22]]\n"
     ]
    }
   ],
   "source": [
    "# 混同行列で集計結果を表示する（命令を追記すること）\n",
    "print(metrics.confusion_matrix(y_test, Y_pred))"
   ]
  },
  {
   "cell_type": "code",
   "execution_count": 130,
   "id": "every-extension",
   "metadata": {},
   "outputs": [
    {
     "name": "stdout",
     "output_type": "stream",
     "text": [
      "              precision    recall  f1-score   support\n",
      "\n",
      "           0       0.89      0.95      0.92       160\n",
      "           1       0.73      0.55      0.63        40\n",
      "\n",
      "    accuracy                           0.87       200\n",
      "   macro avg       0.81      0.75      0.77       200\n",
      "weighted avg       0.86      0.87      0.86       200\n",
      "\n"
     ]
    }
   ],
   "source": [
    "# 正答率を表示する（命令を追記すること）\n",
    "print(metrics.classification_report(y_test, Y_pred))"
   ]
  },
  {
   "cell_type": "code",
   "execution_count": 131,
   "id": "transsexual-tennis",
   "metadata": {},
   "outputs": [
    {
     "data": {
      "text/plain": [
       "array([0, 0, 0, 0, 0, 0, 0, 0, 0, 0, 0, 0, 1, 0, 0, 0, 0, 0, 0, 0, 0, 0,\n",
       "       0, 0, 1, 0, 1, 1, 1, 0, 0, 0, 0, 0, 0, 0, 0, 0, 0, 0, 0, 1, 0, 0,\n",
       "       0, 0, 0, 0, 0, 0, 0, 0, 0, 1, 0, 0, 0, 0, 0, 0, 0, 0, 0, 0, 1, 0,\n",
       "       0, 0, 0, 0, 0, 1, 0, 0, 0, 0, 1, 0, 0, 0, 0, 0, 0, 0, 0, 1, 0, 0,\n",
       "       0, 0, 0, 0, 0, 1, 0, 0, 0, 0, 0, 0, 0, 0, 1, 0, 0, 0, 0, 0, 0, 0,\n",
       "       0, 0, 0, 0, 1, 1, 0, 0, 0, 0, 0, 0, 0, 1, 0, 0, 0, 0, 0, 0, 0, 0,\n",
       "       0, 0, 0, 0, 0, 0, 0, 1, 0, 0, 1, 0, 0, 0, 0, 0, 0, 0, 0, 0, 0, 0,\n",
       "       0, 0, 1, 0, 0, 0, 0, 0, 0, 0, 0, 0, 0, 0, 0, 0, 0, 1, 1, 0, 0, 0,\n",
       "       0, 0, 0, 0, 0, 0, 0, 0, 0, 0, 0, 0, 0, 0, 0, 1, 0, 0, 0, 0, 1, 0,\n",
       "       0, 0, 0, 1, 0, 0, 0, 0, 0, 0, 0, 0, 1, 0, 0, 0, 0, 0, 1, 0, 0, 0,\n",
       "       1, 1, 0, 0, 0, 0, 0, 0, 1, 0, 0, 0, 0, 0, 0, 0, 0, 1, 0, 0, 1, 0,\n",
       "       0, 1, 0, 0, 0, 1, 0, 0, 0, 0, 0, 0, 0, 0, 0, 0, 0, 0, 0, 0, 1, 0,\n",
       "       0, 1, 0, 0, 0, 0, 0, 0, 0, 0, 0, 1, 0, 0, 0, 0, 0, 0, 0, 0, 0, 0,\n",
       "       1, 0, 0, 1, 0, 0, 1, 0, 0, 0, 0, 0, 0, 0, 0, 0, 0, 0, 0, 0, 0, 0,\n",
       "       0, 0, 0, 0, 0, 0, 0, 0, 0, 1, 0, 0, 0, 1, 0, 0, 0, 0, 0, 0, 0, 0,\n",
       "       0, 0, 0, 0, 0, 0, 0, 0, 0, 0, 0, 0, 0, 0, 0, 0, 0, 1, 0, 0, 0, 0,\n",
       "       0, 0, 0, 0, 0, 0, 0, 0, 0, 0, 1, 0, 0, 0, 1, 0, 0, 0, 0, 0, 0, 0,\n",
       "       1, 0, 0, 0, 0, 0, 0, 0, 0, 0, 1, 0, 1, 0, 0, 1, 0, 0, 0, 0, 0, 0,\n",
       "       0, 0, 0, 0, 0, 0, 0, 0, 0, 0, 0, 0, 1, 1, 0, 0, 0, 0, 0, 0, 0, 0,\n",
       "       0, 0, 0, 0, 1, 0, 1, 0, 0, 0, 0, 0, 1, 0, 0, 0, 0, 0, 1, 0, 1, 0,\n",
       "       0, 0, 0, 0, 0, 0, 0, 0, 0, 0, 0, 0, 0, 0, 0, 0, 1, 0, 0, 0, 0, 0,\n",
       "       0, 1, 1, 0, 0, 0, 0, 1, 0, 0, 0, 0, 0, 0, 0, 0, 0, 0, 0, 0, 1, 0,\n",
       "       1, 0, 1, 0, 0, 0, 0, 0, 0, 0, 1, 1, 0, 0, 0, 0, 0, 0, 0, 1, 0, 0,\n",
       "       0, 0, 0, 0, 0, 0, 0, 0, 0, 1, 0, 0, 1, 0, 0, 0, 0, 0, 0, 0, 0, 0,\n",
       "       0, 0, 0, 0, 0, 0, 0, 1, 0, 0, 0, 0, 0, 0, 1, 0, 1, 0, 0, 0, 1, 0,\n",
       "       0, 0, 0, 0, 0, 0, 0, 0, 0, 0, 0, 0, 0, 1, 0, 0, 0, 0, 0, 0, 0, 0,\n",
       "       0, 0, 0, 0, 0, 0, 0, 0, 0, 0, 0, 0, 0, 0, 0, 0, 0, 1, 1, 0, 0, 0,\n",
       "       0, 0, 0, 0, 0, 0, 0, 0, 0, 0, 0, 0, 0, 0, 0, 0, 0, 0, 0, 1, 0, 0,\n",
       "       0, 0, 0, 0, 0, 0, 0, 0, 0, 1, 1, 0, 0, 0, 0, 0, 0, 0, 0, 0, 0, 0,\n",
       "       0, 0, 0, 0, 0, 1, 0, 0, 0, 1, 0, 0, 0, 0, 1, 1, 0, 0, 0, 0, 0, 0,\n",
       "       0, 0, 0, 0, 0, 0, 0, 0, 0, 0, 0, 0, 0, 0, 0, 1, 0, 1, 1, 0, 0, 0,\n",
       "       0, 0, 0, 1, 0, 0, 0, 0, 0, 0, 0, 0, 0, 0, 0, 1, 0, 0, 0, 0, 0, 0,\n",
       "       0, 0, 0, 0, 0, 1, 0, 0, 0, 0, 0, 0, 0, 0, 0, 0, 0, 1, 0, 1, 0, 0,\n",
       "       0, 0, 0, 0, 1, 0, 0, 0, 0, 0, 0, 0, 0, 0, 1, 0, 0, 0, 0, 0, 0, 0,\n",
       "       1, 0, 0, 0, 0, 0, 0, 1, 1, 1, 1, 0, 0, 0, 0, 0, 0, 0, 0, 0, 0, 0,\n",
       "       0, 0, 0, 0, 0, 0, 0, 0, 0, 0, 1, 1, 0, 1, 0, 0, 0, 0, 0, 0, 1, 0,\n",
       "       1, 0, 0, 0, 0, 0, 0, 0, 0, 0, 0, 0, 0, 0, 0, 0, 0, 0, 1, 0, 0, 1,\n",
       "       0, 1, 0, 0, 1, 0, 0, 0, 0, 0, 0, 0, 0, 0, 0, 0, 0, 0, 0, 0, 0, 0,\n",
       "       0, 0, 0, 0, 0, 0, 0, 0, 0, 0, 0, 1, 0, 0, 0, 0, 0, 0, 0, 1, 0, 0,\n",
       "       0, 0, 0, 0, 0, 0, 0, 0, 0, 0, 0, 0, 0, 0, 0, 0, 0, 1, 0, 0, 0, 0,\n",
       "       0, 0, 0, 0, 0, 0, 0, 0, 0, 0, 0, 0, 0, 1, 0, 0, 0, 0, 0, 0, 0, 0,\n",
       "       0, 0, 0, 0, 0, 0, 0, 0, 0, 0, 1, 0, 0, 0, 1, 0, 0, 0, 0, 0, 0, 0,\n",
       "       0, 0, 0, 0, 0, 0, 0, 1, 0, 0, 0, 0, 0, 0, 0, 0, 0, 0, 1, 0, 0, 0,\n",
       "       0, 0, 0, 0, 1, 0, 0, 0, 0, 0, 0, 0, 0, 0, 1, 0, 1, 0, 1, 0, 0, 0,\n",
       "       1, 0, 0, 0, 0, 0, 0, 0, 0, 1, 0, 0, 0, 0, 0, 1, 1, 1, 1, 0, 0, 0,\n",
       "       0, 0, 0, 0, 0, 0, 0, 0, 0, 0])"
      ]
     },
     "execution_count": 131,
     "metadata": {},
     "output_type": "execute_result"
    }
   ],
   "source": [
    "data = XT  # 提出ファイル\n",
    "# 結果\n",
    "x_pred = np.array(data)     \n",
    "#予測\n",
    "pred = model.predict(xgb.DMatrix(x_pred))\n",
    "#小数を丸めて整数←これをしないとkaggleに提出しても正しく採点されない\n",
    "y_pred = np.round(pred).astype(int)\n",
    "y_pred"
   ]
  },
  {
   "cell_type": "code",
   "execution_count": 132,
   "id": "extreme-season",
   "metadata": {},
   "outputs": [
    {
     "data": {
      "text/plain": [
       "1000"
      ]
     },
     "execution_count": 132,
     "metadata": {},
     "output_type": "execute_result"
    }
   ],
   "source": [
    "len(y_pred)"
   ]
  },
  {
   "cell_type": "code",
   "execution_count": 133,
   "id": "fewer-lafayette",
   "metadata": {},
   "outputs": [
    {
     "name": "stdout",
     "output_type": "stream",
     "text": [
      "1000\n"
     ]
    }
   ],
   "source": [
    "Submit = test_df.loc[:,[\"id\"]]\n",
    "Submit['pred'] = y_pred\n",
    "print(len(Submit))"
   ]
  },
  {
   "cell_type": "code",
   "execution_count": 134,
   "id": "hundred-suggestion",
   "metadata": {},
   "outputs": [
    {
     "data": {
      "text/plain": [
       "0    877\n",
       "1    123\n",
       "Name: pred, dtype: int64"
      ]
     },
     "execution_count": 134,
     "metadata": {},
     "output_type": "execute_result"
    }
   ],
   "source": [
    "Submit['pred'].value_counts()"
   ]
  },
  {
   "cell_type": "code",
   "execution_count": 135,
   "id": "relevant-testing",
   "metadata": {},
   "outputs": [
    {
     "data": {
      "text/html": [
       "<div>\n",
       "<style scoped>\n",
       "    .dataframe tbody tr th:only-of-type {\n",
       "        vertical-align: middle;\n",
       "    }\n",
       "\n",
       "    .dataframe tbody tr th {\n",
       "        vertical-align: top;\n",
       "    }\n",
       "\n",
       "    .dataframe thead th {\n",
       "        text-align: right;\n",
       "    }\n",
       "</style>\n",
       "<table border=\"1\" class=\"dataframe\">\n",
       "  <thead>\n",
       "    <tr style=\"text-align: right;\">\n",
       "      <th></th>\n",
       "      <th>id</th>\n",
       "      <th>pred</th>\n",
       "    </tr>\n",
       "  </thead>\n",
       "  <tbody>\n",
       "    <tr>\n",
       "      <th>0</th>\n",
       "      <td>1</td>\n",
       "      <td>0</td>\n",
       "    </tr>\n",
       "    <tr>\n",
       "      <th>1</th>\n",
       "      <td>2</td>\n",
       "      <td>0</td>\n",
       "    </tr>\n",
       "    <tr>\n",
       "      <th>2</th>\n",
       "      <td>4</td>\n",
       "      <td>0</td>\n",
       "    </tr>\n",
       "    <tr>\n",
       "      <th>3</th>\n",
       "      <td>5</td>\n",
       "      <td>0</td>\n",
       "    </tr>\n",
       "    <tr>\n",
       "      <th>4</th>\n",
       "      <td>6</td>\n",
       "      <td>0</td>\n",
       "    </tr>\n",
       "    <tr>\n",
       "      <th>...</th>\n",
       "      <td>...</td>\n",
       "      <td>...</td>\n",
       "    </tr>\n",
       "    <tr>\n",
       "      <th>995</th>\n",
       "      <td>1992</td>\n",
       "      <td>0</td>\n",
       "    </tr>\n",
       "    <tr>\n",
       "      <th>996</th>\n",
       "      <td>1993</td>\n",
       "      <td>0</td>\n",
       "    </tr>\n",
       "    <tr>\n",
       "      <th>997</th>\n",
       "      <td>1995</td>\n",
       "      <td>0</td>\n",
       "    </tr>\n",
       "    <tr>\n",
       "      <th>998</th>\n",
       "      <td>1997</td>\n",
       "      <td>0</td>\n",
       "    </tr>\n",
       "    <tr>\n",
       "      <th>999</th>\n",
       "      <td>1999</td>\n",
       "      <td>0</td>\n",
       "    </tr>\n",
       "  </tbody>\n",
       "</table>\n",
       "<p>1000 rows × 2 columns</p>\n",
       "</div>"
      ],
      "text/plain": [
       "       id  pred\n",
       "0       1     0\n",
       "1       2     0\n",
       "2       4     0\n",
       "3       5     0\n",
       "4       6     0\n",
       "..    ...   ...\n",
       "995  1992     0\n",
       "996  1993     0\n",
       "997  1995     0\n",
       "998  1997     0\n",
       "999  1999     0\n",
       "\n",
       "[1000 rows x 2 columns]"
      ]
     },
     "execution_count": 135,
     "metadata": {},
     "output_type": "execute_result"
    }
   ],
   "source": [
    "Submit"
   ]
  },
  {
   "cell_type": "code",
   "execution_count": 136,
   "id": "thrown-looking",
   "metadata": {},
   "outputs": [],
   "source": [
    "Submit.to_csv(\"submit_33.csv\", index=False, header=False)"
   ]
  },
  {
   "cell_type": "code",
   "execution_count": 27,
   "id": "european-saturday",
   "metadata": {},
   "outputs": [],
   "source": [
    "# 27,28提出"
   ]
  },
  {
   "cell_type": "markdown",
   "id": "natural-arnold",
   "metadata": {},
   "source": [
    "# PassengerIdを取得\n",
    "#PassengerId = np.array(test[\"PassengerId\"]).astype(int)\n",
    "\n",
    "# my_prediction(予測データ）とPassengerIdをデータフレームへ落とし込む\n",
    "#my_result = pd.DataFrame(prediction_XG, PassengerId, columns = [\"Survived\"])\n",
    "\n",
    "# xgb_result.csvとして書き出し\n",
    "#my_result.to_csv(\"xgb_result.csv\", index_label = [\"PassengerId\"])"
   ]
  },
  {
   "cell_type": "code",
   "execution_count": null,
   "id": "saving-celtic",
   "metadata": {},
   "outputs": [],
   "source": []
  }
 ],
 "metadata": {
  "kernelspec": {
   "display_name": "Python 3",
   "language": "python",
   "name": "python3"
  },
  "language_info": {
   "codemirror_mode": {
    "name": "ipython",
    "version": 3
   },
   "file_extension": ".py",
   "mimetype": "text/x-python",
   "name": "python",
   "nbconvert_exporter": "python",
   "pygments_lexer": "ipython3",
   "version": "3.8.7"
  }
 },
 "nbformat": 4,
 "nbformat_minor": 5
}
